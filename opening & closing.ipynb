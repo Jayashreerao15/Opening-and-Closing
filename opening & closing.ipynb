{
 "cells": [
  {
   "cell_type": "code",
   "execution_count": 3,
   "metadata": {},
   "outputs": [],
   "source": [
    "# Developed By   : Jayashree Rao V\n",
    "# Register Number: 212220230023\n",
    "\n",
    "# Import the necessary packages\n",
    "import cv2\n",
    "import matplotlib.pyplot as plt\n",
    "\n",
    "# Read the image\n",
    "image=cv2.imread(\"first.jpg\",0)\n",
    "image=cv2.cvtColor(image,cv2.COLOR_GRAY2RGB)\n",
    "\n",
    "# Create the structuring element\n",
    "kernel=cv2.getStructuringElement(cv2.MORPH_CROSS,(11,11))\n",
    "\n",
    "# Use Opening operation\n",
    "image1=cv2.morphologyEx(image,cv2.MORPH_OPEN,kernel)\n",
    "\n",
    "# Use Closing Operation\n",
    "image2=cv2.morphologyEx(image,cv2.MORPH_CLOSE,kernel)\n"
   ]
  },
  {
   "cell_type": "code",
   "execution_count": null,
   "metadata": {},
   "outputs": [],
   "source": []
  }
 ],
 "metadata": {
  "kernelspec": {
   "display_name": "Python 3",
   "language": "python",
   "name": "python3"
  },
  "language_info": {
   "codemirror_mode": {
    "name": "ipython",
    "version": 3
   },
   "file_extension": ".py",
   "mimetype": "text/x-python",
   "name": "python",
   "nbconvert_exporter": "python",
   "pygments_lexer": "ipython3",
   "version": "3.8.5"
  }
 },
 "nbformat": 4,
 "nbformat_minor": 4
}
